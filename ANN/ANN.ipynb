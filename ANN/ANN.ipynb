{
  "nbformat": 4,
  "nbformat_minor": 0,
  "metadata": {
    "colab": {
      "provenance": []
    },
    "kernelspec": {
      "name": "python3",
      "display_name": "Python 3"
    },
    "language_info": {
      "name": "python"
    }
  },
  "cells": [
    {
      "cell_type": "code",
      "execution_count": 1,
      "metadata": {
        "id": "RddC-R6DIzuy"
      },
      "outputs": [],
      "source": [
        "import numpy as np\n",
        "import tensorflow as tf\n",
        "from sklearn.datasets import load_iris\n",
        "from sklearn.model_selection import train_test_split\n",
        "from sklearn.preprocessing import StandardScaler\n",
        "from sklearn.metrics import classification_report"
      ]
    },
    {
      "cell_type": "code",
      "source": [
        "# Load the Iris dataset\n",
        "iris = load_iris()\n",
        "X = iris.data\n",
        "y = iris.target"
      ],
      "metadata": {
        "id": "xK2nMuoPI-Af"
      },
      "execution_count": 2,
      "outputs": []
    },
    {
      "cell_type": "code",
      "source": [
        "# Split the dataset into training and testing sets\n",
        "X_train, X_test, y_train, y_test = train_test_split(X, y, test_size=0.2, random_state=42)\n",
        "\n",
        "# Standardize the features\n",
        "scaler = StandardScaler()\n",
        "X_train = scaler.fit_transform(X_train)\n",
        "X_test = scaler.transform(X_test)\n",
        "\n",
        "# Convert labels to one-hot encoding\n",
        "y_train_onehot = tf.keras.utils.to_categorical(y_train, num_classes=3)\n",
        "y_test_onehot = tf.keras.utils.to_categorical(y_test, num_classes=3)"
      ],
      "metadata": {
        "id": "BgwIwqqrJAXt"
      },
      "execution_count": 3,
      "outputs": []
    },
    {
      "cell_type": "code",
      "source": [
        "# Build the ANN model with 5 hidden layers\n",
        "model = tf.keras.Sequential([\n",
        "    tf.keras.layers.Dense(8, input_shape=(4,), activation='relu'),\n",
        "    tf.keras.layers.Dense(16, activation='relu'),\n",
        "    tf.keras.layers.Dense(32, activation='relu'),\n",
        "    tf.keras.layers.Dense(16, activation='relu'),\n",
        "    tf.keras.layers.Dense(8, activation='relu'),\n",
        "    tf.keras.layers.Dense(3, activation='softmax')\n",
        "])\n",
        "\n",
        "# Compile the model\n",
        "model.compile(optimizer='adam', loss='categorical_crossentropy', metrics=['accuracy'])"
      ],
      "metadata": {
        "id": "qyInJ27OJCUj"
      },
      "execution_count": 4,
      "outputs": []
    },
    {
      "cell_type": "code",
      "source": [
        "# Train the model\n",
        "model.fit(X_train, y_train_onehot, epochs=50, batch_size=8, validation_split=0.1)\n"
      ],
      "metadata": {
        "colab": {
          "base_uri": "https://localhost:8080/"
        },
        "id": "4eIJ_QnRJEKm",
        "outputId": "6b523a2e-9c08-47e6-cb1a-b5fc2bbda99e"
      },
      "execution_count": 5,
      "outputs": [
        {
          "output_type": "stream",
          "name": "stdout",
          "text": [
            "Epoch 1/50\n",
            "14/14 [==============================] - 2s 20ms/step - loss: 1.0421 - accuracy: 0.6296 - val_loss: 1.0577 - val_accuracy: 0.5833\n",
            "Epoch 2/50\n",
            "14/14 [==============================] - 0s 4ms/step - loss: 0.9670 - accuracy: 0.6944 - val_loss: 1.0179 - val_accuracy: 0.5833\n",
            "Epoch 3/50\n",
            "14/14 [==============================] - 0s 4ms/step - loss: 0.8843 - accuracy: 0.6759 - val_loss: 0.9698 - val_accuracy: 0.5833\n",
            "Epoch 4/50\n",
            "14/14 [==============================] - 0s 6ms/step - loss: 0.7880 - accuracy: 0.6667 - val_loss: 0.9110 - val_accuracy: 0.5833\n",
            "Epoch 5/50\n",
            "14/14 [==============================] - 0s 5ms/step - loss: 0.6901 - accuracy: 0.6944 - val_loss: 0.8438 - val_accuracy: 0.6667\n",
            "Epoch 6/50\n",
            "14/14 [==============================] - 0s 5ms/step - loss: 0.6086 - accuracy: 0.7037 - val_loss: 0.7811 - val_accuracy: 0.6667\n",
            "Epoch 7/50\n",
            "14/14 [==============================] - 0s 4ms/step - loss: 0.5477 - accuracy: 0.7593 - val_loss: 0.7257 - val_accuracy: 0.8333\n",
            "Epoch 8/50\n",
            "14/14 [==============================] - 0s 4ms/step - loss: 0.4996 - accuracy: 0.8241 - val_loss: 0.6689 - val_accuracy: 0.8333\n",
            "Epoch 9/50\n",
            "14/14 [==============================] - 0s 5ms/step - loss: 0.4582 - accuracy: 0.8148 - val_loss: 0.6155 - val_accuracy: 0.8333\n",
            "Epoch 10/50\n",
            "14/14 [==============================] - 0s 5ms/step - loss: 0.4110 - accuracy: 0.8796 - val_loss: 0.5661 - val_accuracy: 0.9167\n",
            "Epoch 11/50\n",
            "14/14 [==============================] - 0s 4ms/step - loss: 0.3661 - accuracy: 0.9074 - val_loss: 0.5018 - val_accuracy: 0.9167\n",
            "Epoch 12/50\n",
            "14/14 [==============================] - 0s 7ms/step - loss: 0.3204 - accuracy: 0.9537 - val_loss: 0.4467 - val_accuracy: 0.8333\n",
            "Epoch 13/50\n",
            "14/14 [==============================] - 0s 4ms/step - loss: 0.2773 - accuracy: 0.9444 - val_loss: 0.3888 - val_accuracy: 0.8333\n",
            "Epoch 14/50\n",
            "14/14 [==============================] - 0s 4ms/step - loss: 0.2454 - accuracy: 0.9444 - val_loss: 0.3291 - val_accuracy: 0.9167\n",
            "Epoch 15/50\n",
            "14/14 [==============================] - 0s 4ms/step - loss: 0.2030 - accuracy: 0.9630 - val_loss: 0.2903 - val_accuracy: 0.9167\n",
            "Epoch 16/50\n",
            "14/14 [==============================] - 0s 6ms/step - loss: 0.1749 - accuracy: 0.9444 - val_loss: 0.2751 - val_accuracy: 0.9167\n",
            "Epoch 17/50\n",
            "14/14 [==============================] - 0s 4ms/step - loss: 0.1508 - accuracy: 0.9722 - val_loss: 0.2293 - val_accuracy: 0.9167\n",
            "Epoch 18/50\n",
            "14/14 [==============================] - 0s 4ms/step - loss: 0.1341 - accuracy: 0.9444 - val_loss: 0.2337 - val_accuracy: 0.9167\n",
            "Epoch 19/50\n",
            "14/14 [==============================] - 0s 4ms/step - loss: 0.1217 - accuracy: 0.9537 - val_loss: 0.2113 - val_accuracy: 0.9167\n",
            "Epoch 20/50\n",
            "14/14 [==============================] - 0s 5ms/step - loss: 0.1136 - accuracy: 0.9630 - val_loss: 0.1921 - val_accuracy: 0.9167\n",
            "Epoch 21/50\n",
            "14/14 [==============================] - 0s 6ms/step - loss: 0.1074 - accuracy: 0.9537 - val_loss: 0.1867 - val_accuracy: 0.9167\n",
            "Epoch 22/50\n",
            "14/14 [==============================] - 0s 4ms/step - loss: 0.1005 - accuracy: 0.9722 - val_loss: 0.2104 - val_accuracy: 0.9167\n",
            "Epoch 23/50\n",
            "14/14 [==============================] - 0s 4ms/step - loss: 0.0952 - accuracy: 0.9537 - val_loss: 0.1973 - val_accuracy: 0.9167\n",
            "Epoch 24/50\n",
            "14/14 [==============================] - 0s 5ms/step - loss: 0.0890 - accuracy: 0.9537 - val_loss: 0.1880 - val_accuracy: 0.9167\n",
            "Epoch 25/50\n",
            "14/14 [==============================] - 0s 6ms/step - loss: 0.0850 - accuracy: 0.9630 - val_loss: 0.1809 - val_accuracy: 0.9167\n",
            "Epoch 26/50\n",
            "14/14 [==============================] - 0s 6ms/step - loss: 0.0810 - accuracy: 0.9630 - val_loss: 0.2033 - val_accuracy: 0.9167\n",
            "Epoch 27/50\n",
            "14/14 [==============================] - 0s 5ms/step - loss: 0.0772 - accuracy: 0.9537 - val_loss: 0.1931 - val_accuracy: 0.9167\n",
            "Epoch 28/50\n",
            "14/14 [==============================] - 0s 4ms/step - loss: 0.0771 - accuracy: 0.9722 - val_loss: 0.1715 - val_accuracy: 0.9167\n",
            "Epoch 29/50\n",
            "14/14 [==============================] - 0s 5ms/step - loss: 0.0763 - accuracy: 0.9537 - val_loss: 0.1898 - val_accuracy: 0.9167\n",
            "Epoch 30/50\n",
            "14/14 [==============================] - 0s 4ms/step - loss: 0.0744 - accuracy: 0.9722 - val_loss: 0.1788 - val_accuracy: 0.9167\n",
            "Epoch 31/50\n",
            "14/14 [==============================] - 0s 5ms/step - loss: 0.0790 - accuracy: 0.9722 - val_loss: 0.1974 - val_accuracy: 0.9167\n",
            "Epoch 32/50\n",
            "14/14 [==============================] - 0s 4ms/step - loss: 0.0704 - accuracy: 0.9630 - val_loss: 0.2278 - val_accuracy: 0.9167\n",
            "Epoch 33/50\n",
            "14/14 [==============================] - 0s 6ms/step - loss: 0.0792 - accuracy: 0.9537 - val_loss: 0.2560 - val_accuracy: 0.9167\n",
            "Epoch 34/50\n",
            "14/14 [==============================] - 0s 4ms/step - loss: 0.0734 - accuracy: 0.9630 - val_loss: 0.1976 - val_accuracy: 0.9167\n",
            "Epoch 35/50\n",
            "14/14 [==============================] - 0s 4ms/step - loss: 0.0661 - accuracy: 0.9722 - val_loss: 0.2232 - val_accuracy: 0.9167\n",
            "Epoch 36/50\n",
            "14/14 [==============================] - 0s 5ms/step - loss: 0.0748 - accuracy: 0.9537 - val_loss: 0.1916 - val_accuracy: 0.9167\n",
            "Epoch 37/50\n",
            "14/14 [==============================] - 0s 5ms/step - loss: 0.0951 - accuracy: 0.9722 - val_loss: 0.2384 - val_accuracy: 0.9167\n",
            "Epoch 38/50\n",
            "14/14 [==============================] - 0s 5ms/step - loss: 0.0651 - accuracy: 0.9722 - val_loss: 0.2693 - val_accuracy: 0.9167\n",
            "Epoch 39/50\n",
            "14/14 [==============================] - 0s 6ms/step - loss: 0.0612 - accuracy: 0.9722 - val_loss: 0.1979 - val_accuracy: 0.9167\n",
            "Epoch 40/50\n",
            "14/14 [==============================] - 0s 6ms/step - loss: 0.0651 - accuracy: 0.9722 - val_loss: 0.2357 - val_accuracy: 0.9167\n",
            "Epoch 41/50\n",
            "14/14 [==============================] - 0s 4ms/step - loss: 0.0602 - accuracy: 0.9630 - val_loss: 0.2199 - val_accuracy: 0.9167\n",
            "Epoch 42/50\n",
            "14/14 [==============================] - 0s 6ms/step - loss: 0.0736 - accuracy: 0.9630 - val_loss: 0.2058 - val_accuracy: 0.9167\n",
            "Epoch 43/50\n",
            "14/14 [==============================] - 0s 5ms/step - loss: 0.0620 - accuracy: 0.9907 - val_loss: 0.2943 - val_accuracy: 0.9167\n",
            "Epoch 44/50\n",
            "14/14 [==============================] - 0s 4ms/step - loss: 0.0653 - accuracy: 0.9630 - val_loss: 0.1878 - val_accuracy: 0.9167\n",
            "Epoch 45/50\n",
            "14/14 [==============================] - 0s 4ms/step - loss: 0.0571 - accuracy: 0.9630 - val_loss: 0.2615 - val_accuracy: 0.9167\n",
            "Epoch 46/50\n",
            "14/14 [==============================] - 0s 6ms/step - loss: 0.0649 - accuracy: 0.9630 - val_loss: 0.2344 - val_accuracy: 0.9167\n",
            "Epoch 47/50\n",
            "14/14 [==============================] - 0s 5ms/step - loss: 0.0707 - accuracy: 0.9722 - val_loss: 0.2380 - val_accuracy: 0.9167\n",
            "Epoch 48/50\n",
            "14/14 [==============================] - 0s 4ms/step - loss: 0.0567 - accuracy: 0.9630 - val_loss: 0.1882 - val_accuracy: 0.9167\n",
            "Epoch 49/50\n",
            "14/14 [==============================] - 0s 4ms/step - loss: 0.0569 - accuracy: 0.9722 - val_loss: 0.2328 - val_accuracy: 0.9167\n",
            "Epoch 50/50\n",
            "14/14 [==============================] - 0s 4ms/step - loss: 0.0561 - accuracy: 0.9815 - val_loss: 0.2713 - val_accuracy: 0.9167\n"
          ]
        },
        {
          "output_type": "execute_result",
          "data": {
            "text/plain": [
              "<keras.src.callbacks.History at 0x7d9be25d8d60>"
            ]
          },
          "metadata": {},
          "execution_count": 5
        }
      ]
    },
    {
      "cell_type": "code",
      "source": [
        "# Evaluate the model on the test set\n",
        "_, accuracy = model.evaluate(X_test, y_test_onehot)\n",
        "print(f\"Test Accuracy: {accuracy:.2f}\")\n"
      ],
      "metadata": {
        "colab": {
          "base_uri": "https://localhost:8080/"
        },
        "id": "Q7Nkc-QtJF-5",
        "outputId": "bd134c91-dfa0-4002-e33f-3144544975a1"
      },
      "execution_count": 6,
      "outputs": [
        {
          "output_type": "stream",
          "name": "stdout",
          "text": [
            "1/1 [==============================] - 0s 24ms/step - loss: 0.0575 - accuracy: 0.9667\n",
            "Test Accuracy: 0.97\n"
          ]
        }
      ]
    },
    {
      "cell_type": "code",
      "source": [
        "# Make predictions on the test set\n",
        "y_pred_onehot = model.predict(X_test)\n",
        "y_pred = np.argmax(y_pred_onehot, axis=1)"
      ],
      "metadata": {
        "colab": {
          "base_uri": "https://localhost:8080/"
        },
        "id": "A3nRT-JkJGfT",
        "outputId": "7f45f424-a180-4456-cf2c-e9f24014e864"
      },
      "execution_count": 7,
      "outputs": [
        {
          "output_type": "stream",
          "name": "stdout",
          "text": [
            "1/1 [==============================] - 0s 106ms/step\n"
          ]
        }
      ]
    },
    {
      "cell_type": "code",
      "source": [
        "# Print a classification report for more detailed evaluation\n",
        "print(classification_report(y_test, y_pred, target_names=iris.target_names))"
      ],
      "metadata": {
        "colab": {
          "base_uri": "https://localhost:8080/"
        },
        "id": "GIhS1nb0JIhF",
        "outputId": "2a9b0b12-f4c6-455f-d5f0-872f5d2aa3c1"
      },
      "execution_count": 8,
      "outputs": [
        {
          "output_type": "stream",
          "name": "stdout",
          "text": [
            "              precision    recall  f1-score   support\n",
            "\n",
            "      setosa       1.00      1.00      1.00        10\n",
            "  versicolor       1.00      0.89      0.94         9\n",
            "   virginica       0.92      1.00      0.96        11\n",
            "\n",
            "    accuracy                           0.97        30\n",
            "   macro avg       0.97      0.96      0.97        30\n",
            "weighted avg       0.97      0.97      0.97        30\n",
            "\n"
          ]
        }
      ]
    }
  ]
}